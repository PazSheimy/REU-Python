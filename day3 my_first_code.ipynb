{
 "metadata": {
  "language_info": {
   "codemirror_mode": {
    "name": "ipython",
    "version": 3
   },
   "file_extension": ".py",
   "mimetype": "text/x-python",
   "name": "python",
   "nbconvert_exporter": "python",
   "pygments_lexer": "ipython3",
   "version": "3.9.5"
  },
  "orig_nbformat": 2,
  "kernelspec": {
   "name": "python395jvsc74a57bd083a5d326ed483fa99398f7f943d2c21e8cdd447b90f554b71990e0eaa56b71c6",
   "display_name": "Python 3.9.5 64-bit"
  },
  "metadata": {
   "interpreter": {
    "hash": "83a5d326ed483fa99398f7f943d2c21e8cdd447b90f554b71990e0eaa56b71c6"
   }
  }
 },
 "nbformat": 4,
 "nbformat_minor": 2,
 "cells": [
  {
   "cell_type": "code",
   "execution_count": 1,
   "metadata": {},
   "outputs": [
    {
     "output_type": "stream",
     "name": "stdout",
     "text": [
      "<class 'int'>\n7 9.8\n<class 'float'>\n16.8\n16\n16.8\n"
     ]
    }
   ],
   "source": [
    "x = 7\n",
    "y = 9.8\n",
    "\n",
    "print(type(x))\n",
    "\n",
    "print(x,y)\n",
    "print(type(y))\n",
    "print(float(x+y))\n",
    "sum=x+y\n",
    "print(int(sum))\n",
    "print(sum)"
   ]
  },
  {
   "cell_type": "code",
   "execution_count": 2,
   "metadata": {},
   "outputs": [
    {
     "output_type": "stream",
     "name": "stdout",
     "text": [
      "<class 'str'>\nsheimy\nYou have an unique name sheimy\n"
     ]
    }
   ],
   "source": [
    "name = (input('Please enter your name:'))\n",
    "print(type(name))\n",
    "print(name)\n",
    "print('You have an unique name '+ name)"
   ]
  },
  {
   "cell_type": "code",
   "execution_count": null,
   "metadata": {},
   "outputs": [],
   "source": [
    "\n"
   ]
  }
 ]
}