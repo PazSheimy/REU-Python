{
 "metadata": {
  "language_info": {
   "codemirror_mode": {
    "name": "ipython",
    "version": 3
   },
   "file_extension": ".py",
   "mimetype": "text/x-python",
   "name": "python",
   "nbconvert_exporter": "python",
   "pygments_lexer": "ipython3",
   "version": "3.9.5"
  },
  "orig_nbformat": 2,
  "kernelspec": {
   "name": "python395jvsc74a57bd083a5d326ed483fa99398f7f943d2c21e8cdd447b90f554b71990e0eaa56b71c6",
   "display_name": "Python 3.9.5 64-bit"
  },
  "metadata": {
   "interpreter": {
    "hash": "83a5d326ed483fa99398f7f943d2c21e8cdd447b90f554b71990e0eaa56b71c6"
   }
  }
 },
 "nbformat": 4,
 "nbformat_minor": 2,
 "cells": [
  {
   "cell_type": "code",
   "execution_count": 1,
   "metadata": {},
   "outputs": [
    {
     "output_type": "stream",
     "name": "stdout",
     "text": [
      "<class 'int'>\n7 9.8\n<class 'float'>\n16.8\n16\n16.8\n"
     ]
    }
   ],
   "source": [
    "x = 7\n",
    "y = 9.8\n",
    "\n",
    "print(type(x))\n",
    "\n",
    "print(x,y)\n",
    "print(type(y))\n",
    "print(float(x+y))\n",
    "sum=x+y\n",
    "print(int(sum))\n",
    "print(sum)"
   ]
  },
  {
   "cell_type": "code",
   "execution_count": 2,
   "metadata": {},
   "outputs": [
    {
     "output_type": "stream",
     "name": "stdout",
     "text": [
      "<class 'str'>\nsheimy\nYou have an unique name sheimy\n"
     ]
    }
   ],
   "source": [
    "name = (input('Please enter your name:'))\n",
    "print(type(name))\n",
    "print(name)\n",
    "print('You have an unique name '+ name)"
   ]
  },
  {
   "cell_type": "code",
   "execution_count": 1,
   "metadata": {},
   "outputs": [
    {
     "output_type": "stream",
     "name": "stdout",
     "text": [
      "teenager\n"
     ]
    }
   ],
   "source": [
    "age = 15\n",
    "status = None\n",
    "if(age>12) and age<20:\n",
    "    status = 'teenager'\n",
    "else:\n",
    "    status = 'not teenager'\n",
    "print(status)\n"
   ]
  },
  {
   "cell_type": "code",
   "execution_count": 4,
   "metadata": {},
   "outputs": [
    {
     "output_type": "stream",
     "name": "stdout",
     "text": [
      "bye\n"
     ]
    }
   ],
   "source": [
    "# Nesting If statements\n",
    "snowing = False\n",
    "temp = 85\n",
    "if temp<0:\n",
    "    print('It is freezing')\n",
    "    if snowing:\n",
    "        print('Put on boots')\n",
    "        print('Time for hot chocolate')\n",
    "print('bye')\n",
    "\n"
   ]
  },
  {
   "cell_type": "code",
   "execution_count": 6,
   "metadata": {},
   "outputs": [
    {
     "output_type": "stream",
     "name": "stdout",
     "text": [
      "starting\n0 1 2 3 4 5 6 7 8 9 Done\n"
     ]
    }
   ],
   "source": [
    "count = 0\n",
    "print('starting')\n",
    "while count <10:\n",
    "    print(count, '', end='') #part of the while loop\n",
    "    count += 1 #also past of the while loop\n",
    "print('Done')"
   ]
  },
  {
   "cell_type": "code",
   "execution_count": 8,
   "metadata": {},
   "outputs": [
    {
     "output_type": "stream",
     "name": "stdout",
     "text": [
      "Print out values in a range\n0 1 2 3 4 5 6 7 8 9 Done\n"
     ]
    }
   ],
   "source": [
    "print('Print out values in a range')\n",
    "for i in range(0,10):\n",
    "    print(i,'',end='')\n",
    "print('Done')"
   ]
  },
  {
   "cell_type": "code",
   "execution_count": 13,
   "metadata": {},
   "outputs": [
    {
     "output_type": "stream",
     "name": "stdout",
     "text": [
      "Only print code if all iteraition completes\n",
      "0 1 2 3 Done\n"
     ]
    }
   ],
   "source": [
    "#Break loop statements\n",
    "print(\"Only print code if all iteraition completes\")\n",
    "num = int(input('Enter a number to check for: '))\n",
    "for i in range(0,6):\n",
    "    if i ==num:\n",
    "        break\n",
    "    print(i,'',end='')\n",
    "print('Done')"
   ]
  },
  {
   "cell_type": "code",
   "execution_count": 16,
   "metadata": {},
   "outputs": [
    {
     "output_type": "stream",
     "name": "stdout",
     "text": [
      "0 \n\nhey its an even number\nwe love even numbers\n1 \n\n2 \n\nhey its an even number\nwe love even numbers\n3 \n\n4 \n\nhey its an even number\nwe love even numbers\n5 \n\n6 \n\nhey its an even number\nwe love even numbers\n7 \n\n8 \n\nhey its an even number\nwe love even numbers\n9 \n\nDone\n"
     ]
    }
   ],
   "source": [
    "#Continue loop Statements\n",
    "for i in range(0,10):\n",
    "    print(i,'\\n')\n",
    "    if i%2==1:\n",
    "        continue\n",
    "    print('hey its an even number')\n",
    "    print('we love even numbers')\n",
    "print('Done')"
   ]
  },
  {
   "cell_type": "code",
   "execution_count": 21,
   "metadata": {},
   "outputs": [
    {
     "output_type": "execute_result",
     "data": {
      "text/plain": [
       "['orange',\n",
       " 'apple',\n",
       " 'orange',\n",
       " 'pear',\n",
       " 'banana',\n",
       " 'kiwi',\n",
       " 'apple',\n",
       " 'banana',\n",
       " 'kiwi']"
      ]
     },
     "metadata": {},
     "execution_count": 21
    }
   ],
   "source": [
    "#Creating a list\n",
    "#apends insert another elemnt at the end of the list\n",
    "#insert add an item at a certain position in this case position to add orange\n",
    "fruits = ['orange','apple','pear','banana','kiwi','apple','banana']\n",
    "fruits.append('kiwi')\n",
    "fruits.insert(2,'orange')\n",
    "fruits\n"
   ]
  },
  {
   "cell_type": "code",
   "execution_count": 27,
   "metadata": {},
   "outputs": [
    {
     "output_type": "execute_result",
     "data": {
      "text/plain": [
       "['orange', 'apple', 'orange', 'banana', 'apple', 'banana', 'kiwi']"
      ]
     },
     "metadata": {},
     "execution_count": 27
    }
   ],
   "source": [
    "fruits.remove('kiwi')\n",
    "fruits"
   ]
  },
  {
   "cell_type": "code",
   "execution_count": 28,
   "metadata": {},
   "outputs": [
    {
     "output_type": "execute_result",
     "data": {
      "text/plain": [
       "['orange', 'apple', 'orange', 'apple', 'banana', 'kiwi']"
      ]
     },
     "metadata": {},
     "execution_count": 28
    }
   ],
   "source": [
    "fruits.pop(3)\n",
    "fruits"
   ]
  },
  {
   "cell_type": "code",
   "execution_count": 29,
   "metadata": {},
   "outputs": [
    {
     "output_type": "execute_result",
     "data": {
      "text/plain": [
       "['kiwi', 'banana', 'apple', 'orange', 'apple', 'orange']"
      ]
     },
     "metadata": {},
     "execution_count": 29
    }
   ],
   "source": [
    "fruits.reverse()\n",
    "fruits"
   ]
  },
  {
   "cell_type": "code",
   "execution_count": 30,
   "metadata": {},
   "outputs": [
    {
     "output_type": "execute_result",
     "data": {
      "text/plain": [
       "{'jack': 4098, 'sape': 4139}"
      ]
     },
     "metadata": {},
     "execution_count": 30
    }
   ],
   "source": [
    "#Dictionaries\n",
    "tel = {'jack':4098, 'sape':4139}\n",
    "tel"
   ]
  },
  {
   "cell_type": "code",
   "execution_count": 31,
   "metadata": {},
   "outputs": [
    {
     "output_type": "execute_result",
     "data": {
      "text/plain": [
       "{'jack': 4098, 'sape': 4139, 'guido': 4127}"
      ]
     },
     "metadata": {},
     "execution_count": 31
    }
   ],
   "source": [
    "tel['guido']=4127\n",
    "tel"
   ]
  },
  {
   "cell_type": "code",
   "execution_count": 32,
   "metadata": {},
   "outputs": [
    {
     "output_type": "execute_result",
     "data": {
      "text/plain": [
       "{'jack': 4098, 'guido': 4127}"
      ]
     },
     "metadata": {},
     "execution_count": 32
    }
   ],
   "source": [
    "tel['jack']\n",
    "del tel['sape']\n",
    "tel"
   ]
  },
  {
   "cell_type": "code",
   "execution_count": 33,
   "metadata": {},
   "outputs": [
    {
     "output_type": "execute_result",
     "data": {
      "text/plain": [
       "['jack', 'guido']"
      ]
     },
     "metadata": {},
     "execution_count": 33
    }
   ],
   "source": [
    "list(tel)"
   ]
  },
  {
   "cell_type": "code",
   "execution_count": 34,
   "metadata": {},
   "outputs": [
    {
     "output_type": "execute_result",
     "data": {
      "text/plain": [
       "['guido', 'jack']"
      ]
     },
     "metadata": {},
     "execution_count": 34
    }
   ],
   "source": [
    "sorted(tel)"
   ]
  },
  {
   "cell_type": "code",
   "execution_count": 35,
   "metadata": {},
   "outputs": [
    {
     "output_type": "stream",
     "name": "stdout",
     "text": [
      "gallahad the pure\nrobin the brave\n"
     ]
    }
   ],
   "source": [
    "knight = {'gallahad':'the pure', 'robin':'the brave'}\n",
    "for k, v in knight.items():\n",
    "    print(k,v)"
   ]
  },
  {
   "cell_type": "code",
   "execution_count": 36,
   "metadata": {},
   "outputs": [
    {
     "output_type": "execute_result",
     "data": {
      "text/plain": [
       "'Ford'"
      ]
     },
     "metadata": {},
     "execution_count": 36
    }
   ],
   "source": [
    "thisdict = {'brand': 'Ford', \"electric\":False, \"year\":1964, \"colors\": ['red','white','blue']}\n",
    "thisdict['brand']"
   ]
  },
  {
   "cell_type": "code",
   "execution_count": 37,
   "metadata": {},
   "outputs": [
    {
     "output_type": "execute_result",
     "data": {
      "text/plain": [
       "False"
      ]
     },
     "metadata": {},
     "execution_count": 37
    }
   ],
   "source": [
    "thisdict['electric']"
   ]
  },
  {
   "cell_type": "code",
   "execution_count": 46,
   "metadata": {},
   "outputs": [
    {
     "output_type": "execute_result",
     "data": {
      "text/plain": [
       "'blue'"
      ]
     },
     "metadata": {},
     "execution_count": 46
    }
   ],
   "source": [
    "thisdict['colors'][2]"
   ]
  },
  {
   "cell_type": "code",
   "execution_count": null,
   "metadata": {},
   "outputs": [],
   "source": []
  }
 ]
}