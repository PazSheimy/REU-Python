{
 "metadata": {
  "language_info": {
   "codemirror_mode": {
    "name": "ipython",
    "version": 3
   },
   "file_extension": ".py",
   "mimetype": "text/x-python",
   "name": "python",
   "nbconvert_exporter": "python",
   "pygments_lexer": "ipython3",
   "version": 3
  },
  "orig_nbformat": 4
 },
 "nbformat": 4,
 "nbformat_minor": 2,
 "cells": [
  {
   "cell_type": "code",
   "execution_count": null,
   "metadata": {},
   "outputs": [],
   "source": [
    "x = 7\n",
    "y = 9.8\n",
    "\n",
    "print(type(x))\n",
    "\n",
    "print(x,y)\n",
    "print(type(y))\n",
    "print(float(x+y))\n",
    "sum=x+y\n",
    "print(int(sum))\n",
    "print(sum)"
   ]
  }
 ]
}