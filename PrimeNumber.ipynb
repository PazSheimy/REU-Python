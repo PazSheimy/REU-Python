{
 "metadata": {
  "language_info": {
   "codemirror_mode": {
    "name": "ipython",
    "version": 3
   },
   "file_extension": ".py",
   "mimetype": "text/x-python",
   "name": "python",
   "nbconvert_exporter": "python",
   "pygments_lexer": "ipython3",
   "version": "3.9.5"
  },
  "orig_nbformat": 4,
  "kernelspec": {
   "name": "python3",
   "display_name": "Python 3.9.5 64-bit"
  },
  "interpreter": {
   "hash": "83a5d326ed483fa99398f7f943d2c21e8cdd447b90f554b71990e0eaa56b71c6"
  }
 },
 "nbformat": 4,
 "nbformat_minor": 2,
 "cells": [
  {
   "cell_type": "code",
   "execution_count": 1,
   "metadata": {},
   "outputs": [
    {
     "output_type": "stream",
     "name": "stdout",
     "text": [
      "11 It is prime number\n"
     ]
    }
   ],
   "source": [
    "number= int(input('Eneter a number to find out if it is prime'))\n",
    "if (number<2):\n",
    "    print('Please enter a number grather than 1')\n",
    "    number= (input())\n",
    "elif(number>2):\n",
    "    for i in range (2,number+1):\n",
    "        flag = 0\n",
    "        for j in range(2,i):\n",
    "            if((i%j)==0):\n",
    "                flag =1\n",
    "                break\n",
    "\n",
    "if(flag==0):\n",
    "    print(number,'It is prime number')\n",
    "else:\n",
    "    print(number,'is not a prime number')"
   ]
  },
  {
   "cell_type": "code",
   "execution_count": null,
   "metadata": {},
   "outputs": [],
   "source": []
  }
 ]
}