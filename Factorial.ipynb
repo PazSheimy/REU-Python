{
 "metadata": {
  "language_info": {
   "codemirror_mode": {
    "name": "ipython",
    "version": 3
   },
   "file_extension": ".py",
   "mimetype": "text/x-python",
   "name": "python",
   "nbconvert_exporter": "python",
   "pygments_lexer": "ipython3",
   "version": "3.9.5"
  },
  "orig_nbformat": 4,
  "kernelspec": {
   "name": "python3",
   "display_name": "Python 3.9.5 64-bit"
  },
  "interpreter": {
   "hash": "83a5d326ed483fa99398f7f943d2c21e8cdd447b90f554b71990e0eaa56b71c6"
  }
 },
 "nbformat": 4,
 "nbformat_minor": 2,
 "cells": [
  {
   "cell_type": "code",
   "execution_count": 18,
   "metadata": {},
   "outputs": [
    {
     "output_type": "stream",
     "name": "stdout",
     "text": [
      "Factorial of 5 is 120\n"
     ]
    }
   ],
   "source": [
    "number = int(input('Enter a number to calculate its factorial'))\n",
    "if (number<0):\n",
    "    print('Please enter a number greater then 0')\n",
    "    number= input()\n",
    "elif(number==0):\n",
    "        print('Factorial of',number,'is 1')\n",
    "else:\n",
    "    factorial=1\n",
    "    i=1\n",
    "    while(i<=number):\n",
    "        factorial = factorial*i\n",
    "        i=i+1\n",
    "    print('Factorial of', number, 'is',factorial)\n"
   ]
  },
  {
   "cell_type": "code",
   "execution_count": null,
   "metadata": {},
   "outputs": [],
   "source": []
  }
 ]
}